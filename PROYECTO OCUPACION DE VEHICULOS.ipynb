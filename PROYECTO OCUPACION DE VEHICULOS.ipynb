{
 "cells": [
  {
   "cell_type": "markdown",
   "id": "adebe88c",
   "metadata": {},
   "source": [
    "## Análisis de ocupación de rutas ## "
   ]
  },
  {
   "cell_type": "code",
   "execution_count": 144,
   "id": "acfc4412",
   "metadata": {},
   "outputs": [],
   "source": [
    "import pandas as pd\n",
    "import numpy as np\n",
    "from datetime import datetime, date, time, timedelta\n",
    "import holidays\n",
    "import requests\n",
    "import openmeteo_requests\n",
    "import requests_cache\n",
    "from retry_requests import retry\n",
    "from datetime import date, timedelta\n",
    "import matplotlib.pyplot as plt\n",
    "import seaborn as sns"
   ]
  },
  {
   "cell_type": "code",
   "execution_count": 145,
   "id": "2d92c1ed",
   "metadata": {},
   "outputs": [
    {
     "name": "stdout",
     "output_type": "stream",
     "text": [
      "c:\\Users\\juani\\OneDrive\\Escritorio\\Data Scientist\\CARREER\\PROYECTO TRANSPORTE\n"
     ]
    }
   ],
   "source": [
    "import os\n",
    "print(os.getcwd())"
   ]
  },
  {
   "cell_type": "code",
   "execution_count": 147,
   "id": "4df05805",
   "metadata": {},
   "outputs": [],
   "source": [
    "df = pd.read_excel('RECORRIDOS_2025_01-08_UNIDOS.xlsx', sheet_name='Sheet1')"
   ]
  },
  {
   "cell_type": "code",
   "execution_count": null,
   "id": "b482ab2f",
   "metadata": {},
   "outputs": [
    {
     "name": "stdout",
     "output_type": "stream",
     "text": [
      "        FECHA DIA DE LA SEMANA      HORA  CLIMA   PLACA  PAS.REG  PAS.ESP  \\\n",
      "0  01-01-2025        miércoles  11:45:00    NaN  STQ296        9        0   \n",
      "1  01-01-2025        miércoles  14:30:00    NaN  STQ296        3        5   \n",
      "2  04-01-2025           sábado  09:35:00    NaN  STQ296        9        0   \n",
      "3  04-01-2025           sábado  12:40:00    NaN  STQ296        9        0   \n",
      "4  06-01-2025            lunes  08:00:00    NaN  STQ296        8        0   \n",
      "\n",
      "   % OCUPACION  \n",
      "0     1.000000  \n",
      "1     0.888889  \n",
      "2     1.000000  \n",
      "3     1.000000  \n",
      "4     0.888889  \n"
     ]
    }
   ],
   "source": [
    "print(df.head())"
   ]
  },
  {
   "cell_type": "code",
   "execution_count": 148,
   "id": "263a02af",
   "metadata": {},
   "outputs": [],
   "source": [
    "# Copia de trabajo (para no tocar el original en memoria)\n",
    "data = df.copy()"
   ]
  },
  {
   "cell_type": "code",
   "execution_count": 149,
   "id": "3028860e",
   "metadata": {},
   "outputs": [
    {
     "name": "stderr",
     "output_type": "stream",
     "text": [
      "C:\\Users\\juani\\AppData\\Local\\Temp\\ipykernel_16772\\3289071719.py:4: UserWarning: Could not infer format, so each element will be parsed individually, falling back to `dateutil`. To ensure parsing is consistent and as-expected, please specify a format.\n",
      "  data[\"HORA\"] = pd.to_datetime(data[\"HORA\"].astype(str), errors=\"coerce\").dt.time\n"
     ]
    }
   ],
   "source": [
    "# Normalizar FECHA y HORA y crear timestamp de salida\n",
    "data[\"FECHA\"] = pd.to_datetime(data[\"FECHA\"], dayfirst=True, errors=\"coerce\").dt.date\n",
    "# Asegurar HORA como texto HH:MM:SS y luego a time\n",
    "data[\"HORA\"] = pd.to_datetime(data[\"HORA\"].astype(str), errors=\"coerce\").dt.time"
   ]
  },
  {
   "cell_type": "code",
   "execution_count": 150,
   "id": "3aff7976",
   "metadata": {},
   "outputs": [],
   "source": [
    "# Crear un objeto con los festivos de Colombia para 2025\n",
    "col_holidays = holidays.Colombia(years=[2025])\n",
    "\n",
    "# Suponiendo que tu columna FECHA ya está en formato datetime\n",
    "data[\"FECHA\"] = pd.to_datetime(data[\"FECHA\"], dayfirst=True, errors=\"coerce\")\n",
    "\n",
    "# Marcar si cada fecha es festivo\n",
    "data[\"FESTIVO\"] = data[\"FECHA\"].dt.date.isin(col_holidays).map({True: \"Sí\", False: \"No\"})"
   ]
  },
  {
   "cell_type": "code",
   "execution_count": 151,
   "id": "f2089a5b",
   "metadata": {},
   "outputs": [
    {
     "name": "stdout",
     "output_type": "stream",
     "text": [
      "       FECHA DIA DE LA SEMANA      HORA  CLIMA   PLACA  PAS.REG  PAS.ESP  \\\n",
      "0 2025-01-01        miércoles  11:45:00    NaN  STQ296        9        0   \n",
      "1 2025-01-01        miércoles  14:30:00    NaN  STQ296        3        5   \n",
      "2 2025-01-04           sábado  09:35:00    NaN  STQ296        9        0   \n",
      "3 2025-01-04           sábado  12:40:00    NaN  STQ296        9        0   \n",
      "4 2025-01-06            lunes  08:00:00    NaN  STQ296        8        0   \n",
      "\n",
      "   % OCUPACION FESTIVO  \n",
      "0     1.000000      Sí  \n",
      "1     0.888889      Sí  \n",
      "2     1.000000      No  \n",
      "3     1.000000      No  \n",
      "4     0.888889      Sí  \n"
     ]
    }
   ],
   "source": [
    "print(data.head())"
   ]
  },
  {
   "cell_type": "code",
   "execution_count": 152,
   "id": "ba095d86",
   "metadata": {},
   "outputs": [
    {
     "name": "stdout",
     "output_type": "stream",
     "text": [
      "<class 'pandas.core.frame.DataFrame'>\n",
      "RangeIndex: 4639 entries, 0 to 4638\n",
      "Data columns (total 9 columns):\n",
      " #   Column            Non-Null Count  Dtype         \n",
      "---  ------            --------------  -----         \n",
      " 0   FECHA             4630 non-null   datetime64[ns]\n",
      " 1   DIA DE LA SEMANA  4639 non-null   object        \n",
      " 2   HORA              4630 non-null   object        \n",
      " 3   CLIMA             0 non-null      float64       \n",
      " 4   PLACA             4630 non-null   object        \n",
      " 5   PAS.REG           4639 non-null   int64         \n",
      " 6   PAS.ESP           4639 non-null   int64         \n",
      " 7   % OCUPACION       4639 non-null   float64       \n",
      " 8   FESTIVO           4639 non-null   object        \n",
      "dtypes: datetime64[ns](1), float64(2), int64(2), object(4)\n",
      "memory usage: 326.3+ KB\n",
      "       FECHA DIA DE LA SEMANA      HORA  CLIMA   PLACA  PAS.REG  PAS.ESP  \\\n",
      "0 2025-01-01        miércoles  11:45:00    NaN  STQ296        9        0   \n",
      "1 2025-01-01        miércoles  14:30:00    NaN  STQ296        3        5   \n",
      "2 2025-01-04           sábado  09:35:00    NaN  STQ296        9        0   \n",
      "3 2025-01-04           sábado  12:40:00    NaN  STQ296        9        0   \n",
      "4 2025-01-06            lunes  08:00:00    NaN  STQ296        8        0   \n",
      "\n",
      "   % OCUPACION FESTIVO  \n",
      "0     1.000000      Sí  \n",
      "1     0.888889      Sí  \n",
      "2     1.000000      No  \n",
      "3     1.000000      No  \n",
      "4     0.888889      Sí  \n"
     ]
    }
   ],
   "source": [
    "# Si FECHA es string o datetime, conviértela solo una vez:\n",
    "data[\"FECHA\"] = pd.to_datetime(data[\"FECHA\"], dayfirst=True, errors=\"coerce\")\n",
    "\n",
    "# Si la necesitas como date puro (no recomendado para merges con horas):\n",
    "# data[\"FECHA\"] = data[\"FECHA\"].dt.date\n",
    "data.info()\n",
    "print(data.head())"
   ]
  },
  {
   "cell_type": "code",
   "execution_count": 153,
   "id": "07b67091",
   "metadata": {},
   "outputs": [],
   "source": [
    "# Dejar solo la fecha sin hora\n",
    "data[\"FECHA\"] = data[\"FECHA\"].dt.date"
   ]
  },
  {
   "cell_type": "code",
   "execution_count": null,
   "id": "f6a2d679",
   "metadata": {},
   "outputs": [],
   "source": [
    "# Exportar el DataFrame con festivos a un archivo Excel\n",
    "data.to_excel(\"RECORRIDOS_2025_01-08_UNIDOS.xlsx\", index=False)"
   ]
  },
  {
   "cell_type": "markdown",
   "id": "a41a18ed",
   "metadata": {},
   "source": [
    "## Ahora vamos a buscar el estado del clima durante el 1 de enero al 31 de agosto de 2025 ##"
   ]
  },
  {
   "cell_type": "code",
   "execution_count": null,
   "id": "d352a99f",
   "metadata": {},
   "outputs": [
    {
     "name": "stdout",
     "output_type": "stream",
     "text": [
      "Coordinates: 5.125°N -75.5°E\n",
      "Elevation: 2120.0 m asl\n",
      "Timezone difference to GMT+0: 0s\n",
      "\n",
      "Hourly data\n",
      "                           date  temperature_2m  weather_code\n",
      "0    2025-01-01 00:00:00+00:00       15.983500          45.0\n",
      "1    2025-01-01 01:00:00+00:00       15.883500           3.0\n",
      "2    2025-01-01 02:00:00+00:00       15.783500           3.0\n",
      "3    2025-01-01 03:00:00+00:00       15.533500          45.0\n",
      "4    2025-01-01 04:00:00+00:00       15.533500          45.0\n",
      "...                        ...             ...           ...\n",
      "5827 2025-08-31 19:00:00+00:00       27.683500           3.0\n",
      "5828 2025-08-31 20:00:00+00:00       26.683500          80.0\n",
      "5829 2025-08-31 21:00:00+00:00       25.383501          95.0\n",
      "5830 2025-08-31 22:00:00+00:00       23.933500          95.0\n",
      "5831 2025-08-31 23:00:00+00:00       23.033501          80.0\n",
      "\n",
      "[5832 rows x 3 columns]\n"
     ]
    }
   ],
   "source": [
    "# Setup the Open-Meteo API client with cache and retry on error\n",
    "cache_session = requests_cache.CachedSession('.cache', expire_after = 3600)\n",
    "retry_session = retry(cache_session, retries = 5, backoff_factor = 0.2)\n",
    "openmeteo = openmeteo_requests.Client(session = retry_session)\n",
    "\n",
    "# Make sure all required weather variables are listed here\n",
    "# The order of variables in hourly or daily is important to assign them correctly below\n",
    "url = \"https://historical-forecast-api.open-meteo.com/v1/forecast\"\n",
    "params = {\n",
    "\t\"latitude\": 5.0689,\n",
    "\t\"longitude\": -75.5174,\n",
    "\t\"start_date\": \"2025-01-01\",\n",
    "\t\"end_date\": \"2025-08-31\",\n",
    "\t\"hourly\": [\"temperature_2m\", \"weather_code\"],\n",
    "\t\"models\": \"best_match\",\n",
    "}\n",
    "responses = openmeteo.weather_api(url, params=params)\n",
    "\n",
    "# Process first location. Add a for-loop for multiple locations or weather models\n",
    "response = responses[0]\n",
    "print(f\"Coordinates: {response.Latitude()}°N {response.Longitude()}°E\")\n",
    "print(f\"Elevation: {response.Elevation()} m asl\")\n",
    "print(f\"Timezone difference to GMT+0: {response.UtcOffsetSeconds()}s\")\n",
    "\n",
    "# Process hourly data. The order of variables needs to be the same as requested.\n",
    "hourly = response.Hourly()\n",
    "hourly_temperature_2m = hourly.Variables(0).ValuesAsNumpy()\n",
    "hourly_weather_code = hourly.Variables(1).ValuesAsNumpy()\n",
    "\n",
    "hourly_data = {\"date\": pd.date_range(\n",
    "\tstart = pd.to_datetime(hourly.Time(), unit = \"s\", utc = True),\n",
    "\tend = pd.to_datetime(hourly.TimeEnd(), unit = \"s\", utc = True),\n",
    "\tfreq = pd.Timedelta(seconds = hourly.Interval()),\n",
    "\tinclusive = \"left\"\n",
    ")}\n",
    "\n",
    "hourly_data[\"temperature_2m\"] = hourly_temperature_2m\n",
    "hourly_data[\"weather_code\"] = hourly_weather_code\n",
    "\n",
    "hourly_dataframe = pd.DataFrame(data = hourly_data)\n",
    "print(\"\\nHourly data\\n\", hourly_dataframe)"
   ]
  },
  {
   "cell_type": "code",
   "execution_count": null,
   "id": "4662a69c",
   "metadata": {},
   "outputs": [
    {
     "name": "stdout",
     "output_type": "stream",
     "text": [
      "        Fecha      Hora  Hora_num  temperature_2m  weather_code\n",
      "0  2025-01-01  00:00:00         0         15.9835          45.0\n",
      "1  2025-01-01  01:00:00         1         15.8835           3.0\n",
      "2  2025-01-01  02:00:00         2         15.7835           3.0\n",
      "3  2025-01-01  03:00:00         3         15.5335          45.0\n",
      "4  2025-01-01  04:00:00         4         15.5335          45.0\n"
     ]
    }
   ],
   "source": [
    "# Convertir la columna 'date' a datetime\n",
    "hourly_dataframe[\"date\"] = pd.to_datetime(hourly_dataframe[\"date\"])\n",
    "\n",
    "# Crear columnas separadas\n",
    "hourly_dataframe[\"Fecha\"] = hourly_dataframe[\"date\"].dt.date\n",
    "hourly_dataframe[\"Hora\"] = hourly_dataframe[\"date\"].dt.time\n",
    "hourly_dataframe[\"Hora_num\"] = hourly_dataframe[\"date\"].dt.hour\n",
    "\n",
    "# Eliminar la columna original 'date'\n",
    "hourly_dataframe = hourly_dataframe.drop(columns=[\"date\"])\n",
    "\n",
    "# Reorganizar columnas en el orden solicitado\n",
    "column_order = [\"Fecha\", \"Hora\", \"Hora_num\", \"temperature_2m\", \"weather_code\"]\n",
    "hourly_dataframe = hourly_dataframe[column_order]\n",
    "\n",
    "print(hourly_dataframe.head())"
   ]
  },
  {
   "cell_type": "code",
   "execution_count": null,
   "id": "53c32b9f",
   "metadata": {},
   "outputs": [],
   "source": [
    "# Exportar el DataFrame con festivos a un archivo Excel\n",
    "hourly_dataframe.to_excel(\"clima_por_dias_horas_v2.xlsx\", index=False)"
   ]
  },
  {
   "cell_type": "markdown",
   "id": "f8cc3163",
   "metadata": {},
   "source": [
    "## Combinación de los datasets que organizamos\n",
    "\n",
    "Ahora se combinan los dos datasets por las variables de fecha y hora, teniendo en cuenta que para evitar muchos espacios en blanco por la hora vamos a realizar una aproximanción "
   ]
  },
  {
   "cell_type": "code",
   "execution_count": null,
   "id": "9fa8ee84",
   "metadata": {},
   "outputs": [
    {
     "name": "stdout",
     "output_type": "stream",
     "text": [
      "        FECHA DIA DE LA SEMANA      HORA  CLIMA   PLACA  PAS.REG  PAS.ESP  \\\n",
      "0  2025-01-01        miércoles  09:00:00    NaN  STQ112        6        2   \n",
      "1  2025-01-01        miércoles  09:00:00    NaN  STQ343        4        4   \n",
      "2  2025-01-01        miércoles  11:00:00    NaN  STQ112        7        1   \n",
      "3  2025-01-01        miércoles  11:45:00    NaN  STQ296        9        0   \n",
      "4  2025-01-01        miércoles  12:45:00    NaN  STQ343        7        2   \n",
      "\n",
      "   % OCUPACION FESTIVO            datetime       Fecha      Hora  Hora_num  \\\n",
      "0     0.888889      Sí 2025-01-01 09:00:00  2025-01-01  09:00:00       9.0   \n",
      "1     0.888889      Sí 2025-01-01 09:00:00  2025-01-01  09:00:00       9.0   \n",
      "2     0.888889      Sí 2025-01-01 11:00:00  2025-01-01  11:00:00      11.0   \n",
      "3     1.000000      Sí 2025-01-01 11:45:00         NaN       NaN       NaN   \n",
      "4     1.000000      Sí 2025-01-01 12:45:00         NaN       NaN       NaN   \n",
      "\n",
      "   temperature_2m  weather_code  \n",
      "0       14.533500           2.0  \n",
      "1       14.533500           2.0  \n",
      "2       14.183499           1.0  \n",
      "3             NaN           NaN  \n",
      "4             NaN           NaN  \n"
     ]
    }
   ],
   "source": [
    "# Convertir a datetime combinando fecha y hora\n",
    "data[\"datetime\"] = pd.to_datetime(data[\"FECHA\"].astype(str) + \" \" + data[\"HORA\"].astype(str), errors=\"coerce\")\n",
    "hourly_dataframe[\"datetime\"] = pd.to_datetime(hourly_dataframe[\"Fecha\"].astype(str) + \" \" + hourly_dataframe[\"Hora\"].astype(str), errors=\"coerce\")\n",
    "\n",
    "# Eliminar filas con datetime nulo en ambos DataFrames antes del merge\n",
    "data = data.dropna(subset=[\"datetime\"])\n",
    "hourly_dataframe = hourly_dataframe.dropna(subset=[\"datetime\"])\n",
    "\n",
    "# Ordenar (requisito para merge_asof)\n",
    "data = data.sort_values(\"datetime\")\n",
    "hourly_dataframe = hourly_dataframe.sort_values(\"datetime\")\n",
    "\n",
    "# Hacer merge aproximado: busca la hora más cercana dentro de un margen (ej: 30 minutos)\n",
    "df_merge = pd.merge_asof(\n",
    "    data,\n",
    "    hourly_dataframe,\n",
    "    on=\"datetime\",\n",
    "    direction=\"nearest\",          # Busca el valor más cercano\n",
    "    tolerance=pd.Timedelta(\"5m\") # Máxima diferencia aceptada\n",
    ")\n",
    "\n",
    "# Revisar resultado\n",
    "print(df_merge.head())"
   ]
  },
  {
   "cell_type": "code",
   "execution_count": null,
   "id": "896b1867",
   "metadata": {},
   "outputs": [
    {
     "name": "stdout",
     "output_type": "stream",
     "text": [
      "<class 'pandas.core.frame.DataFrame'>\n",
      "RangeIndex: 4630 entries, 0 to 4629\n",
      "Data columns (total 15 columns):\n",
      " #   Column            Non-Null Count  Dtype         \n",
      "---  ------            --------------  -----         \n",
      " 0   FECHA             4630 non-null   object        \n",
      " 1   DIA DE LA SEMANA  4630 non-null   object        \n",
      " 2   HORA              4630 non-null   object        \n",
      " 3   CLIMA             0 non-null      float64       \n",
      " 4   PLACA             4630 non-null   object        \n",
      " 5   PAS.REG           4630 non-null   int64         \n",
      " 6   PAS.ESP           4630 non-null   int64         \n",
      " 7   % OCUPACION       4630 non-null   float64       \n",
      " 8   FESTIVO           4630 non-null   object        \n",
      " 9   datetime          4630 non-null   datetime64[ns]\n",
      " 10  Fecha             2073 non-null   object        \n",
      " 11  Hora              2073 non-null   object        \n",
      " 12  Hora_num          2073 non-null   float64       \n",
      " 13  temperature_2m    2073 non-null   float32       \n",
      " 14  weather_code      2073 non-null   float32       \n",
      "dtypes: datetime64[ns](1), float32(2), float64(3), int64(2), object(7)\n",
      "memory usage: 506.5+ KB\n"
     ]
    }
   ],
   "source": [
    "df_merge.info()"
   ]
  },
  {
   "cell_type": "code",
   "execution_count": null,
   "id": "593c6b32",
   "metadata": {},
   "outputs": [],
   "source": [
    "# Exportar el DataFrame combinado a un archivo Excel\n",
    "df_merge.to_excel(\"TABLA_COMPLETA.xlsx\", index=False)"
   ]
  },
  {
   "cell_type": "code",
   "execution_count": null,
   "id": "7f7afb94",
   "metadata": {},
   "outputs": [],
   "source": [
    "df_merge[\"temperature_2m\"] = df_merge[\"temperature_2m\"].interpolate(method=\"linear\")"
   ]
  },
  {
   "cell_type": "code",
   "execution_count": null,
   "id": "7084ac13",
   "metadata": {},
   "outputs": [
    {
     "name": "stdout",
     "output_type": "stream",
     "text": [
      "<class 'pandas.core.frame.DataFrame'>\n",
      "RangeIndex: 4630 entries, 0 to 4629\n",
      "Data columns (total 15 columns):\n",
      " #   Column            Non-Null Count  Dtype         \n",
      "---  ------            --------------  -----         \n",
      " 0   FECHA             4630 non-null   object        \n",
      " 1   DIA DE LA SEMANA  4630 non-null   object        \n",
      " 2   HORA              4630 non-null   object        \n",
      " 3   CLIMA             0 non-null      float64       \n",
      " 4   PLACA             4630 non-null   object        \n",
      " 5   PAS.REG           4630 non-null   int64         \n",
      " 6   PAS.ESP           4630 non-null   int64         \n",
      " 7   % OCUPACION       4630 non-null   float64       \n",
      " 8   FESTIVO           4630 non-null   object        \n",
      " 9   datetime          4630 non-null   datetime64[ns]\n",
      " 10  Fecha             2073 non-null   object        \n",
      " 11  Hora              2073 non-null   object        \n",
      " 12  Hora_num          2073 non-null   float64       \n",
      " 13  temperature_2m    4630 non-null   float32       \n",
      " 14  weather_code      2073 non-null   float32       \n",
      "dtypes: datetime64[ns](1), float32(2), float64(3), int64(2), object(7)\n",
      "memory usage: 506.5+ KB\n"
     ]
    },
    {
     "data": {
      "text/html": [
       "<div>\n",
       "<style scoped>\n",
       "    .dataframe tbody tr th:only-of-type {\n",
       "        vertical-align: middle;\n",
       "    }\n",
       "\n",
       "    .dataframe tbody tr th {\n",
       "        vertical-align: top;\n",
       "    }\n",
       "\n",
       "    .dataframe thead th {\n",
       "        text-align: right;\n",
       "    }\n",
       "</style>\n",
       "<table border=\"1\" class=\"dataframe\">\n",
       "  <thead>\n",
       "    <tr style=\"text-align: right;\">\n",
       "      <th></th>\n",
       "      <th>FECHA</th>\n",
       "      <th>DIA DE LA SEMANA</th>\n",
       "      <th>HORA</th>\n",
       "      <th>CLIMA</th>\n",
       "      <th>PLACA</th>\n",
       "      <th>PAS.REG</th>\n",
       "      <th>PAS.ESP</th>\n",
       "      <th>% OCUPACION</th>\n",
       "      <th>FESTIVO</th>\n",
       "      <th>datetime</th>\n",
       "      <th>Fecha</th>\n",
       "      <th>Hora</th>\n",
       "      <th>Hora_num</th>\n",
       "      <th>temperature_2m</th>\n",
       "      <th>weather_code</th>\n",
       "    </tr>\n",
       "  </thead>\n",
       "  <tbody>\n",
       "    <tr>\n",
       "      <th>0</th>\n",
       "      <td>2025-01-01</td>\n",
       "      <td>miércoles</td>\n",
       "      <td>09:00:00</td>\n",
       "      <td>NaN</td>\n",
       "      <td>STQ112</td>\n",
       "      <td>6</td>\n",
       "      <td>2</td>\n",
       "      <td>0.888889</td>\n",
       "      <td>Sí</td>\n",
       "      <td>2025-01-01 09:00:00</td>\n",
       "      <td>2025-01-01</td>\n",
       "      <td>09:00:00</td>\n",
       "      <td>9.0</td>\n",
       "      <td>14.533500</td>\n",
       "      <td>2.0</td>\n",
       "    </tr>\n",
       "    <tr>\n",
       "      <th>1</th>\n",
       "      <td>2025-01-01</td>\n",
       "      <td>miércoles</td>\n",
       "      <td>09:00:00</td>\n",
       "      <td>NaN</td>\n",
       "      <td>STQ343</td>\n",
       "      <td>4</td>\n",
       "      <td>4</td>\n",
       "      <td>0.888889</td>\n",
       "      <td>Sí</td>\n",
       "      <td>2025-01-01 09:00:00</td>\n",
       "      <td>2025-01-01</td>\n",
       "      <td>09:00:00</td>\n",
       "      <td>9.0</td>\n",
       "      <td>14.533500</td>\n",
       "      <td>2.0</td>\n",
       "    </tr>\n",
       "    <tr>\n",
       "      <th>2</th>\n",
       "      <td>2025-01-01</td>\n",
       "      <td>miércoles</td>\n",
       "      <td>11:00:00</td>\n",
       "      <td>NaN</td>\n",
       "      <td>STQ112</td>\n",
       "      <td>7</td>\n",
       "      <td>1</td>\n",
       "      <td>0.888889</td>\n",
       "      <td>Sí</td>\n",
       "      <td>2025-01-01 11:00:00</td>\n",
       "      <td>2025-01-01</td>\n",
       "      <td>11:00:00</td>\n",
       "      <td>11.0</td>\n",
       "      <td>14.183499</td>\n",
       "      <td>1.0</td>\n",
       "    </tr>\n",
       "    <tr>\n",
       "      <th>3</th>\n",
       "      <td>2025-01-01</td>\n",
       "      <td>miércoles</td>\n",
       "      <td>11:45:00</td>\n",
       "      <td>NaN</td>\n",
       "      <td>STQ296</td>\n",
       "      <td>9</td>\n",
       "      <td>0</td>\n",
       "      <td>1.000000</td>\n",
       "      <td>Sí</td>\n",
       "      <td>2025-01-01 11:45:00</td>\n",
       "      <td>NaN</td>\n",
       "      <td>NaN</td>\n",
       "      <td>NaN</td>\n",
       "      <td>15.183499</td>\n",
       "      <td>NaN</td>\n",
       "    </tr>\n",
       "    <tr>\n",
       "      <th>4</th>\n",
       "      <td>2025-01-01</td>\n",
       "      <td>miércoles</td>\n",
       "      <td>12:45:00</td>\n",
       "      <td>NaN</td>\n",
       "      <td>STQ343</td>\n",
       "      <td>7</td>\n",
       "      <td>2</td>\n",
       "      <td>1.000000</td>\n",
       "      <td>Sí</td>\n",
       "      <td>2025-01-01 12:45:00</td>\n",
       "      <td>NaN</td>\n",
       "      <td>NaN</td>\n",
       "      <td>NaN</td>\n",
       "      <td>16.183500</td>\n",
       "      <td>NaN</td>\n",
       "    </tr>\n",
       "  </tbody>\n",
       "</table>\n",
       "</div>"
      ],
      "text/plain": [
       "        FECHA DIA DE LA SEMANA      HORA  CLIMA   PLACA  PAS.REG  PAS.ESP  \\\n",
       "0  2025-01-01        miércoles  09:00:00    NaN  STQ112        6        2   \n",
       "1  2025-01-01        miércoles  09:00:00    NaN  STQ343        4        4   \n",
       "2  2025-01-01        miércoles  11:00:00    NaN  STQ112        7        1   \n",
       "3  2025-01-01        miércoles  11:45:00    NaN  STQ296        9        0   \n",
       "4  2025-01-01        miércoles  12:45:00    NaN  STQ343        7        2   \n",
       "\n",
       "   % OCUPACION FESTIVO            datetime       Fecha      Hora  Hora_num  \\\n",
       "0     0.888889      Sí 2025-01-01 09:00:00  2025-01-01  09:00:00       9.0   \n",
       "1     0.888889      Sí 2025-01-01 09:00:00  2025-01-01  09:00:00       9.0   \n",
       "2     0.888889      Sí 2025-01-01 11:00:00  2025-01-01  11:00:00      11.0   \n",
       "3     1.000000      Sí 2025-01-01 11:45:00         NaN       NaN       NaN   \n",
       "4     1.000000      Sí 2025-01-01 12:45:00         NaN       NaN       NaN   \n",
       "\n",
       "   temperature_2m  weather_code  \n",
       "0       14.533500           2.0  \n",
       "1       14.533500           2.0  \n",
       "2       14.183499           1.0  \n",
       "3       15.183499           NaN  \n",
       "4       16.183500           NaN  "
      ]
     },
     "execution_count": 117,
     "metadata": {},
     "output_type": "execute_result"
    }
   ],
   "source": [
    "df_merge.info()\n",
    "df_merge.head()"
   ]
  },
  {
   "cell_type": "code",
   "execution_count": null,
   "id": "4f4af983",
   "metadata": {},
   "outputs": [
    {
     "name": "stderr",
     "output_type": "stream",
     "text": [
      "C:\\Users\\juani\\AppData\\Local\\Temp\\ipykernel_16772\\50991605.py:1: FutureWarning: 'H' is deprecated and will be removed in a future version, please use 'h' instead.\n",
      "  df_merge[\"datetime_redondeada\"] = df_merge[\"datetime\"].dt.round(\"H\")\n"
     ]
    }
   ],
   "source": [
    "df_merge[\"datetime_redondeada\"] = df_merge[\"datetime\"].dt.round(\"H\")"
   ]
  },
  {
   "cell_type": "code",
   "execution_count": null,
   "id": "10fa4580",
   "metadata": {},
   "outputs": [],
   "source": [
    "df_merge_v2 = df_merge.merge(\n",
    "    hourly_dataframe,\n",
    "    left_on=\"datetime_redondeada\",\n",
    "    right_on=\"datetime\",\n",
    "    how=\"left\"\n",
    ")"
   ]
  },
  {
   "cell_type": "code",
   "execution_count": null,
   "id": "9c8ead13",
   "metadata": {},
   "outputs": [
    {
     "name": "stdout",
     "output_type": "stream",
     "text": [
      "<class 'pandas.core.frame.DataFrame'>\n",
      "RangeIndex: 4630 entries, 0 to 4629\n",
      "Data columns (total 16 columns):\n",
      " #   Column               Non-Null Count  Dtype         \n",
      "---  ------               --------------  -----         \n",
      " 0   FECHA                4630 non-null   object        \n",
      " 1   DIA DE LA SEMANA     4630 non-null   object        \n",
      " 2   HORA                 4630 non-null   object        \n",
      " 3   CLIMA                0 non-null      float64       \n",
      " 4   PLACA                4630 non-null   object        \n",
      " 5   PAS.REG              4630 non-null   int64         \n",
      " 6   PAS.ESP              4630 non-null   int64         \n",
      " 7   % OCUPACION          4630 non-null   float64       \n",
      " 8   FESTIVO              4630 non-null   object        \n",
      " 9   datetime             4630 non-null   datetime64[ns]\n",
      " 10  Fecha                2073 non-null   object        \n",
      " 11  Hora                 2073 non-null   object        \n",
      " 12  Hora_num             2073 non-null   float64       \n",
      " 13  temperature_2m       4630 non-null   float32       \n",
      " 14  weather_code         2073 non-null   float32       \n",
      " 15  datetime_redondeada  4630 non-null   datetime64[ns]\n",
      "dtypes: datetime64[ns](2), float32(2), float64(3), int64(2), object(7)\n",
      "memory usage: 542.7+ KB\n"
     ]
    },
    {
     "data": {
      "text/html": [
       "<div>\n",
       "<style scoped>\n",
       "    .dataframe tbody tr th:only-of-type {\n",
       "        vertical-align: middle;\n",
       "    }\n",
       "\n",
       "    .dataframe tbody tr th {\n",
       "        vertical-align: top;\n",
       "    }\n",
       "\n",
       "    .dataframe thead th {\n",
       "        text-align: right;\n",
       "    }\n",
       "</style>\n",
       "<table border=\"1\" class=\"dataframe\">\n",
       "  <thead>\n",
       "    <tr style=\"text-align: right;\">\n",
       "      <th></th>\n",
       "      <th>FECHA</th>\n",
       "      <th>DIA DE LA SEMANA</th>\n",
       "      <th>HORA</th>\n",
       "      <th>CLIMA</th>\n",
       "      <th>PLACA</th>\n",
       "      <th>PAS.REG</th>\n",
       "      <th>PAS.ESP</th>\n",
       "      <th>% OCUPACION</th>\n",
       "      <th>FESTIVO</th>\n",
       "      <th>datetime</th>\n",
       "      <th>Fecha</th>\n",
       "      <th>Hora</th>\n",
       "      <th>Hora_num</th>\n",
       "      <th>temperature_2m</th>\n",
       "      <th>weather_code</th>\n",
       "      <th>datetime_redondeada</th>\n",
       "    </tr>\n",
       "  </thead>\n",
       "  <tbody>\n",
       "    <tr>\n",
       "      <th>0</th>\n",
       "      <td>2025-01-01</td>\n",
       "      <td>miércoles</td>\n",
       "      <td>09:00:00</td>\n",
       "      <td>NaN</td>\n",
       "      <td>STQ112</td>\n",
       "      <td>6</td>\n",
       "      <td>2</td>\n",
       "      <td>0.888889</td>\n",
       "      <td>Sí</td>\n",
       "      <td>2025-01-01 09:00:00</td>\n",
       "      <td>2025-01-01</td>\n",
       "      <td>09:00:00</td>\n",
       "      <td>9.0</td>\n",
       "      <td>14.533500</td>\n",
       "      <td>2.0</td>\n",
       "      <td>2025-01-01 09:00:00</td>\n",
       "    </tr>\n",
       "    <tr>\n",
       "      <th>1</th>\n",
       "      <td>2025-01-01</td>\n",
       "      <td>miércoles</td>\n",
       "      <td>09:00:00</td>\n",
       "      <td>NaN</td>\n",
       "      <td>STQ343</td>\n",
       "      <td>4</td>\n",
       "      <td>4</td>\n",
       "      <td>0.888889</td>\n",
       "      <td>Sí</td>\n",
       "      <td>2025-01-01 09:00:00</td>\n",
       "      <td>2025-01-01</td>\n",
       "      <td>09:00:00</td>\n",
       "      <td>9.0</td>\n",
       "      <td>14.533500</td>\n",
       "      <td>2.0</td>\n",
       "      <td>2025-01-01 09:00:00</td>\n",
       "    </tr>\n",
       "    <tr>\n",
       "      <th>2</th>\n",
       "      <td>2025-01-01</td>\n",
       "      <td>miércoles</td>\n",
       "      <td>11:00:00</td>\n",
       "      <td>NaN</td>\n",
       "      <td>STQ112</td>\n",
       "      <td>7</td>\n",
       "      <td>1</td>\n",
       "      <td>0.888889</td>\n",
       "      <td>Sí</td>\n",
       "      <td>2025-01-01 11:00:00</td>\n",
       "      <td>2025-01-01</td>\n",
       "      <td>11:00:00</td>\n",
       "      <td>11.0</td>\n",
       "      <td>14.183499</td>\n",
       "      <td>1.0</td>\n",
       "      <td>2025-01-01 11:00:00</td>\n",
       "    </tr>\n",
       "    <tr>\n",
       "      <th>3</th>\n",
       "      <td>2025-01-01</td>\n",
       "      <td>miércoles</td>\n",
       "      <td>11:45:00</td>\n",
       "      <td>NaN</td>\n",
       "      <td>STQ296</td>\n",
       "      <td>9</td>\n",
       "      <td>0</td>\n",
       "      <td>1.000000</td>\n",
       "      <td>Sí</td>\n",
       "      <td>2025-01-01 11:45:00</td>\n",
       "      <td>NaN</td>\n",
       "      <td>NaN</td>\n",
       "      <td>NaN</td>\n",
       "      <td>15.183499</td>\n",
       "      <td>NaN</td>\n",
       "      <td>2025-01-01 12:00:00</td>\n",
       "    </tr>\n",
       "    <tr>\n",
       "      <th>4</th>\n",
       "      <td>2025-01-01</td>\n",
       "      <td>miércoles</td>\n",
       "      <td>12:45:00</td>\n",
       "      <td>NaN</td>\n",
       "      <td>STQ343</td>\n",
       "      <td>7</td>\n",
       "      <td>2</td>\n",
       "      <td>1.000000</td>\n",
       "      <td>Sí</td>\n",
       "      <td>2025-01-01 12:45:00</td>\n",
       "      <td>NaN</td>\n",
       "      <td>NaN</td>\n",
       "      <td>NaN</td>\n",
       "      <td>16.183500</td>\n",
       "      <td>NaN</td>\n",
       "      <td>2025-01-01 13:00:00</td>\n",
       "    </tr>\n",
       "  </tbody>\n",
       "</table>\n",
       "</div>"
      ],
      "text/plain": [
       "        FECHA DIA DE LA SEMANA      HORA  CLIMA   PLACA  PAS.REG  PAS.ESP  \\\n",
       "0  2025-01-01        miércoles  09:00:00    NaN  STQ112        6        2   \n",
       "1  2025-01-01        miércoles  09:00:00    NaN  STQ343        4        4   \n",
       "2  2025-01-01        miércoles  11:00:00    NaN  STQ112        7        1   \n",
       "3  2025-01-01        miércoles  11:45:00    NaN  STQ296        9        0   \n",
       "4  2025-01-01        miércoles  12:45:00    NaN  STQ343        7        2   \n",
       "\n",
       "   % OCUPACION FESTIVO            datetime       Fecha      Hora  Hora_num  \\\n",
       "0     0.888889      Sí 2025-01-01 09:00:00  2025-01-01  09:00:00       9.0   \n",
       "1     0.888889      Sí 2025-01-01 09:00:00  2025-01-01  09:00:00       9.0   \n",
       "2     0.888889      Sí 2025-01-01 11:00:00  2025-01-01  11:00:00      11.0   \n",
       "3     1.000000      Sí 2025-01-01 11:45:00         NaN       NaN       NaN   \n",
       "4     1.000000      Sí 2025-01-01 12:45:00         NaN       NaN       NaN   \n",
       "\n",
       "   temperature_2m  weather_code datetime_redondeada  \n",
       "0       14.533500           2.0 2025-01-01 09:00:00  \n",
       "1       14.533500           2.0 2025-01-01 09:00:00  \n",
       "2       14.183499           1.0 2025-01-01 11:00:00  \n",
       "3       15.183499           NaN 2025-01-01 12:00:00  \n",
       "4       16.183500           NaN 2025-01-01 13:00:00  "
      ]
     },
     "execution_count": 120,
     "metadata": {},
     "output_type": "execute_result"
    }
   ],
   "source": [
    "df_merge.info()\n",
    "df_merge.head()"
   ]
  },
  {
   "cell_type": "code",
   "execution_count": 160,
   "id": "46a5a54f",
   "metadata": {},
   "outputs": [],
   "source": [
    "df_merge_v2.to_excel(\"TABLA_COMPLETA_V2.xlsx\", index=False)"
   ]
  },
  {
   "cell_type": "code",
   "execution_count": 165,
   "id": "eb05c900",
   "metadata": {},
   "outputs": [
    {
     "name": "stdout",
     "output_type": "stream",
     "text": [
      "Index(['FECHA', 'DIA DE LA SEMANA', 'HORA', 'CLIMA', 'PLACA', 'PAS.REG',\n",
      "       'PAS.ESP', '% OCUPACION', 'FESTIVO', 'datetime_x', 'Fecha_x', 'Hora_x',\n",
      "       'Hora_num_x', 'temperature_2m_x', 'weather_code_x',\n",
      "       'datetime_redondeada', 'Fecha_y', 'Hora_y', 'Hora_num_y',\n",
      "       'temperature_2m_y', 'weather_code_y', 'datetime_y'],\n",
      "      dtype='object')\n"
     ]
    }
   ],
   "source": [
    "print(df_merge_v2.columns)"
   ]
  },
  {
   "cell_type": "code",
   "execution_count": 166,
   "id": "b1288b3c",
   "metadata": {},
   "outputs": [
    {
     "name": "stdout",
     "output_type": "stream",
     "text": [
      "<class 'pandas.core.frame.DataFrame'>\n",
      "RangeIndex: 4630 entries, 0 to 4629\n",
      "Data columns (total 12 columns):\n",
      " #   Column            Non-Null Count  Dtype  \n",
      "---  ------            --------------  -----  \n",
      " 0   Fecha_y           4630 non-null   object \n",
      " 1   DIA DE LA SEMANA  4630 non-null   object \n",
      " 2   FESTIVO           4630 non-null   object \n",
      " 3   Hora_y            4630 non-null   object \n",
      " 4   Hora_num_y        4630 non-null   int32  \n",
      " 5   weather_code_y    4630 non-null   float32\n",
      " 6   CLIMA             0 non-null      float64\n",
      " 7   temperature_2m_y  4630 non-null   float32\n",
      " 8   PLACA             4630 non-null   object \n",
      " 9   PAS.REG           4630 non-null   int64  \n",
      " 10  PAS.ESP           4630 non-null   int64  \n",
      " 11  % OCUPACION       4630 non-null   float64\n",
      "dtypes: float32(2), float64(2), int32(1), int64(2), object(5)\n",
      "memory usage: 379.9+ KB\n"
     ]
    }
   ],
   "source": [
    "cols_keep = [\n",
    "    \"Fecha_y\", \"DIA DE LA SEMANA\", \"FESTIVO\", \"Hora_y\", \"Hora_num_y\",\n",
    "    \"weather_code_y\", \"CLIMA\", \"temperature_2m_y\", \"PLACA\", \"PAS.REG\", \"PAS.ESP\", \"% OCUPACION\"\n",
    "]\n",
    "final_data = df_merge_v2[cols_keep]\n",
    "\n",
    "final_data.info()\n",
    "final_data.head()\n",
    "\n",
    "# Guardar archivo limpio\n",
    "final_data.to_excel(\"TABLA_FINAL.xlsx\", index=False)"
   ]
  },
  {
   "cell_type": "code",
   "execution_count": 168,
   "id": "f2a81380",
   "metadata": {},
   "outputs": [],
   "source": [
    "mapa_clima = {\n",
    "    0: \"Despejado\",\n",
    "    1: \"Principalmente despejado\",\n",
    "    2: \"Parcialmente nublado\",\n",
    "    3: \"Nublado\",\n",
    "    45: \"Niebla\",\n",
    "    48: \"Niebla con escarcha\",\n",
    "    51: \"Llovizna ligera\",\n",
    "    53: \"Llovizna moderada\",\n",
    "    55: \"Llovizna densa\",\n",
    "    61: \"Lluvia ligera\",\n",
    "    63: \"Lluvia moderada\",\n",
    "    65: \"Lluvia fuerte\",\n",
    "    71: \"Nieve ligera\",\n",
    "    73: \"Nieve moderada\",\n",
    "    75: \"Nieve fuerte\",\n",
    "    77: \"Granos de nieve\",\n",
    "    80: \"Chubascos ligeros\",\n",
    "    81: \"Chubascos moderados\",\n",
    "    82: \"Chubascos violentos\",\n",
    "    85: \"Chubascos de nieve ligeros\",\n",
    "    86: \"Chubascos de nieve fuertes\",\n",
    "    95: \"Tormenta eléctrica\",\n",
    "    96: \"Tormenta con granizo ligero\",\n",
    "    99: \"Tormenta con granizo fuerte\"\n",
    "}"
   ]
  },
  {
   "cell_type": "code",
   "execution_count": 169,
   "id": "7f2e81ea",
   "metadata": {},
   "outputs": [
    {
     "name": "stderr",
     "output_type": "stream",
     "text": [
      "C:\\Users\\juani\\AppData\\Local\\Temp\\ipykernel_16772\\3761552894.py:2: SettingWithCopyWarning: \n",
      "A value is trying to be set on a copy of a slice from a DataFrame.\n",
      "Try using .loc[row_indexer,col_indexer] = value instead\n",
      "\n",
      "See the caveats in the documentation: https://pandas.pydata.org/pandas-docs/stable/user_guide/indexing.html#returning-a-view-versus-a-copy\n",
      "  final_data[\"CLIMA\"] = final_data[\"weather_code_y\"].map(mapa_clima)\n",
      "C:\\Users\\juani\\AppData\\Local\\Temp\\ipykernel_16772\\3761552894.py:5: SettingWithCopyWarning: \n",
      "A value is trying to be set on a copy of a slice from a DataFrame.\n",
      "Try using .loc[row_indexer,col_indexer] = value instead\n",
      "\n",
      "See the caveats in the documentation: https://pandas.pydata.org/pandas-docs/stable/user_guide/indexing.html#returning-a-view-versus-a-copy\n",
      "  final_data[\"CLIMA\"] = final_data[\"CLIMA\"].fillna(\"Sin información\")\n"
     ]
    }
   ],
   "source": [
    "# Mapear los códigos al texto\n",
    "final_data[\"CLIMA\"] = final_data[\"weather_code_y\"].map(mapa_clima)\n",
    "\n",
    "# Si quedan valores nulos porque no hay código, rellenar\n",
    "final_data[\"CLIMA\"] = final_data[\"CLIMA\"].fillna(\"Sin información\")\n"
   ]
  },
  {
   "cell_type": "code",
   "execution_count": 170,
   "id": "c0314905",
   "metadata": {},
   "outputs": [
    {
     "name": "stdout",
     "output_type": "stream",
     "text": [
      "<class 'pandas.core.frame.DataFrame'>\n",
      "RangeIndex: 4630 entries, 0 to 4629\n",
      "Data columns (total 12 columns):\n",
      " #   Column            Non-Null Count  Dtype  \n",
      "---  ------            --------------  -----  \n",
      " 0   Fecha_y           4630 non-null   object \n",
      " 1   DIA DE LA SEMANA  4630 non-null   object \n",
      " 2   FESTIVO           4630 non-null   object \n",
      " 3   Hora_y            4630 non-null   object \n",
      " 4   Hora_num_y        4630 non-null   int32  \n",
      " 5   weather_code_y    4630 non-null   float32\n",
      " 6   CLIMA             4630 non-null   object \n",
      " 7   temperature_2m_y  4630 non-null   float32\n",
      " 8   PLACA             4630 non-null   object \n",
      " 9   PAS.REG           4630 non-null   int64  \n",
      " 10  PAS.ESP           4630 non-null   int64  \n",
      " 11  % OCUPACION       4630 non-null   float64\n",
      "dtypes: float32(2), float64(1), int32(1), int64(2), object(6)\n",
      "memory usage: 379.9+ KB\n"
     ]
    },
    {
     "data": {
      "text/html": [
       "<div>\n",
       "<style scoped>\n",
       "    .dataframe tbody tr th:only-of-type {\n",
       "        vertical-align: middle;\n",
       "    }\n",
       "\n",
       "    .dataframe tbody tr th {\n",
       "        vertical-align: top;\n",
       "    }\n",
       "\n",
       "    .dataframe thead th {\n",
       "        text-align: right;\n",
       "    }\n",
       "</style>\n",
       "<table border=\"1\" class=\"dataframe\">\n",
       "  <thead>\n",
       "    <tr style=\"text-align: right;\">\n",
       "      <th></th>\n",
       "      <th>Fecha_y</th>\n",
       "      <th>DIA DE LA SEMANA</th>\n",
       "      <th>FESTIVO</th>\n",
       "      <th>Hora_y</th>\n",
       "      <th>Hora_num_y</th>\n",
       "      <th>weather_code_y</th>\n",
       "      <th>CLIMA</th>\n",
       "      <th>temperature_2m_y</th>\n",
       "      <th>PLACA</th>\n",
       "      <th>PAS.REG</th>\n",
       "      <th>PAS.ESP</th>\n",
       "      <th>% OCUPACION</th>\n",
       "    </tr>\n",
       "  </thead>\n",
       "  <tbody>\n",
       "    <tr>\n",
       "      <th>0</th>\n",
       "      <td>2025-01-01</td>\n",
       "      <td>miércoles</td>\n",
       "      <td>Sí</td>\n",
       "      <td>09:00:00</td>\n",
       "      <td>9</td>\n",
       "      <td>2.0</td>\n",
       "      <td>Parcialmente nublado</td>\n",
       "      <td>14.533500</td>\n",
       "      <td>STQ112</td>\n",
       "      <td>6</td>\n",
       "      <td>2</td>\n",
       "      <td>0.888889</td>\n",
       "    </tr>\n",
       "    <tr>\n",
       "      <th>1</th>\n",
       "      <td>2025-01-01</td>\n",
       "      <td>miércoles</td>\n",
       "      <td>Sí</td>\n",
       "      <td>09:00:00</td>\n",
       "      <td>9</td>\n",
       "      <td>2.0</td>\n",
       "      <td>Parcialmente nublado</td>\n",
       "      <td>14.533500</td>\n",
       "      <td>STQ343</td>\n",
       "      <td>4</td>\n",
       "      <td>4</td>\n",
       "      <td>0.888889</td>\n",
       "    </tr>\n",
       "    <tr>\n",
       "      <th>2</th>\n",
       "      <td>2025-01-01</td>\n",
       "      <td>miércoles</td>\n",
       "      <td>Sí</td>\n",
       "      <td>11:00:00</td>\n",
       "      <td>11</td>\n",
       "      <td>1.0</td>\n",
       "      <td>Principalmente despejado</td>\n",
       "      <td>14.183499</td>\n",
       "      <td>STQ112</td>\n",
       "      <td>7</td>\n",
       "      <td>1</td>\n",
       "      <td>0.888889</td>\n",
       "    </tr>\n",
       "    <tr>\n",
       "      <th>3</th>\n",
       "      <td>2025-01-01</td>\n",
       "      <td>miércoles</td>\n",
       "      <td>Sí</td>\n",
       "      <td>12:00:00</td>\n",
       "      <td>12</td>\n",
       "      <td>2.0</td>\n",
       "      <td>Parcialmente nublado</td>\n",
       "      <td>14.783500</td>\n",
       "      <td>STQ296</td>\n",
       "      <td>9</td>\n",
       "      <td>0</td>\n",
       "      <td>1.000000</td>\n",
       "    </tr>\n",
       "    <tr>\n",
       "      <th>4</th>\n",
       "      <td>2025-01-01</td>\n",
       "      <td>miércoles</td>\n",
       "      <td>Sí</td>\n",
       "      <td>13:00:00</td>\n",
       "      <td>13</td>\n",
       "      <td>3.0</td>\n",
       "      <td>Nublado</td>\n",
       "      <td>16.083500</td>\n",
       "      <td>STQ343</td>\n",
       "      <td>7</td>\n",
       "      <td>2</td>\n",
       "      <td>1.000000</td>\n",
       "    </tr>\n",
       "  </tbody>\n",
       "</table>\n",
       "</div>"
      ],
      "text/plain": [
       "      Fecha_y DIA DE LA SEMANA FESTIVO    Hora_y  Hora_num_y  weather_code_y  \\\n",
       "0  2025-01-01        miércoles      Sí  09:00:00           9             2.0   \n",
       "1  2025-01-01        miércoles      Sí  09:00:00           9             2.0   \n",
       "2  2025-01-01        miércoles      Sí  11:00:00          11             1.0   \n",
       "3  2025-01-01        miércoles      Sí  12:00:00          12             2.0   \n",
       "4  2025-01-01        miércoles      Sí  13:00:00          13             3.0   \n",
       "\n",
       "                      CLIMA  temperature_2m_y   PLACA  PAS.REG  PAS.ESP  \\\n",
       "0      Parcialmente nublado         14.533500  STQ112        6        2   \n",
       "1      Parcialmente nublado         14.533500  STQ343        4        4   \n",
       "2  Principalmente despejado         14.183499  STQ112        7        1   \n",
       "3      Parcialmente nublado         14.783500  STQ296        9        0   \n",
       "4                   Nublado         16.083500  STQ343        7        2   \n",
       "\n",
       "   % OCUPACION  \n",
       "0     0.888889  \n",
       "1     0.888889  \n",
       "2     0.888889  \n",
       "3     1.000000  \n",
       "4     1.000000  "
      ]
     },
     "execution_count": 170,
     "metadata": {},
     "output_type": "execute_result"
    }
   ],
   "source": [
    "final_data.info()\n",
    "final_data.head()"
   ]
  },
  {
   "cell_type": "code",
   "execution_count": 171,
   "id": "78acc13e",
   "metadata": {},
   "outputs": [],
   "source": [
    "# Guardar archivo limpio\n",
    "final_data.to_excel(\"TABLA_FINAL.xlsx\", index=False)"
   ]
  },
  {
   "cell_type": "code",
   "execution_count": 172,
   "id": "99225b85",
   "metadata": {},
   "outputs": [
    {
     "name": "stdout",
     "output_type": "stream",
     "text": [
      "Index(['fecha_y', 'dia de la semana', 'festivo', 'hora_y', 'hora_num_y',\n",
      "       'weather_code_y', 'clima', 'temperature_2m_y', 'placa', 'pas.reg',\n",
      "       'pas.esp', '% ocupacion'],\n",
      "      dtype='object')\n"
     ]
    }
   ],
   "source": [
    "# Cambiar nombres de columnas a minúsculas\n",
    "final_data.columns = final_data.columns.str.lower()\n",
    "\n",
    "# Verificar\n",
    "print(final_data.columns)"
   ]
  },
  {
   "cell_type": "code",
   "execution_count": 173,
   "id": "77dc8036",
   "metadata": {},
   "outputs": [
    {
     "name": "stdout",
     "output_type": "stream",
     "text": [
      "<class 'pandas.core.frame.DataFrame'>\n",
      "RangeIndex: 4630 entries, 0 to 4629\n",
      "Data columns (total 12 columns):\n",
      " #   Column            Non-Null Count  Dtype  \n",
      "---  ------            --------------  -----  \n",
      " 0   fecha_y           4630 non-null   object \n",
      " 1   dia de la semana  4630 non-null   object \n",
      " 2   festivo           4630 non-null   object \n",
      " 3   hora_y            4630 non-null   object \n",
      " 4   hora_num_y        4630 non-null   int32  \n",
      " 5   weather_code_y    4630 non-null   float32\n",
      " 6   clima             4630 non-null   object \n",
      " 7   temperature_2m_y  4630 non-null   float32\n",
      " 8   placa             4630 non-null   object \n",
      " 9   pas.reg           4630 non-null   int64  \n",
      " 10  pas.esp           4630 non-null   int64  \n",
      " 11  % ocupacion       4630 non-null   float64\n",
      "dtypes: float32(2), float64(1), int32(1), int64(2), object(6)\n",
      "memory usage: 379.9+ KB\n"
     ]
    }
   ],
   "source": [
    "final_data.info()"
   ]
  },
  {
   "cell_type": "code",
   "execution_count": 174,
   "id": "d8f02d82",
   "metadata": {},
   "outputs": [
    {
     "name": "stdout",
     "output_type": "stream",
     "text": [
      "<class 'pandas.core.frame.DataFrame'>\n",
      "RangeIndex: 4630 entries, 0 to 4629\n",
      "Data columns (total 12 columns):\n",
      " #   Column                Non-Null Count  Dtype  \n",
      "---  ------                --------------  -----  \n",
      " 0   fecha_clima           4630 non-null   object \n",
      " 1   dia_semana            4630 non-null   object \n",
      " 2   festivo               4630 non-null   object \n",
      " 3   hora_clima            4630 non-null   object \n",
      " 4   hora_num_clima        4630 non-null   int32  \n",
      " 5   codigo_clima          4630 non-null   float32\n",
      " 6   clima                 4630 non-null   object \n",
      " 7   temperatura           4630 non-null   float32\n",
      " 8   placa                 4630 non-null   object \n",
      " 9   pasajeros_regulares   4630 non-null   int64  \n",
      " 10  pasajeros_especiales  4630 non-null   int64  \n",
      " 11  porcentaje_ocupacion  4630 non-null   float64\n",
      "dtypes: float32(2), float64(1), int32(1), int64(2), object(6)\n",
      "memory usage: 379.9+ KB\n"
     ]
    }
   ],
   "source": [
    "final_data = final_data.rename(columns={\n",
    "    \"dia de la semana\": \"dia_semana\",\n",
    "    \"pas.reg\": \"pasajeros_regulares\",\n",
    "    \"pas.esp\": \"pasajeros_especiales\",\n",
    "    \"% ocupacion\": \"porcentaje_ocupacion\",\n",
    "    \"fecha_y\": \"fecha_clima\",\n",
    "    \"hora_y\": \"hora_clima\",\n",
    "    \"hora_num_y\": \"hora_num_clima\",\n",
    "    \"temperature_2m_y\": \"temperatura\",\n",
    "    \"weather_code_y\": \"codigo_clima\"\n",
    "})\n",
    "\n",
    "final_data.info()\n"
   ]
  },
  {
   "cell_type": "code",
   "execution_count": 175,
   "id": "691480f1",
   "metadata": {},
   "outputs": [],
   "source": [
    "# Guardar archivo limpio\n",
    "final_data.to_excel(\"TABLA_FINAL.xlsx\", index=False)"
   ]
  },
  {
   "cell_type": "code",
   "execution_count": 176,
   "id": "3ff418cf",
   "metadata": {},
   "outputs": [
    {
     "data": {
      "text/plain": [
       "(count    4630.000000\n",
       " mean        7.618359\n",
       " std         1.542558\n",
       " min         0.000000\n",
       " 25%         7.000000\n",
       " 50%         8.000000\n",
       " 75%         9.000000\n",
       " max        12.000000\n",
       " Name: pasajeros_totales, dtype: float64,\n",
       " count    4630.000000\n",
       " mean        0.855613\n",
       " std         0.171768\n",
       " min         0.000000\n",
       " 25%         0.777778\n",
       " 50%         0.888889\n",
       " 75%         1.000000\n",
       " max         1.333333\n",
       " Name: porcentaje_ocupacion, dtype: float64,\n",
       " fecha_clima\n",
       " 2025-04-20    335\n",
       " Name: pasajeros_totales, dtype: int64,\n",
       " fecha_clima\n",
       " 2025-03-12    54\n",
       " Name: pasajeros_totales, dtype: int64)"
      ]
     },
     "execution_count": 176,
     "metadata": {},
     "output_type": "execute_result"
    }
   ],
   "source": [
    "# Paso 1: Estadísticas descriptivas\n",
    "\n",
    "# Crear columna con pasajeros totales\n",
    "final_data[\"pasajeros_totales\"] = final_data[\"pasajeros_regulares\"] + final_data[\"pasajeros_especiales\"]\n",
    "\n",
    "# Estadísticas básicas\n",
    "stats_pasajeros = final_data[\"pasajeros_totales\"].describe()\n",
    "stats_ocupacion = final_data[\"porcentaje_ocupacion\"].describe()\n",
    "\n",
    "# Días con mayor y menor demanda de pasajeros\n",
    "pasajeros_por_dia = final_data.groupby(\"fecha_clima\")[\"pasajeros_totales\"].sum().sort_values(ascending=False)\n",
    "dia_max = pasajeros_por_dia.head(1)\n",
    "dia_min = pasajeros_por_dia.tail(1)\n",
    "\n",
    "# Resultados\n",
    "stats_pasajeros, stats_ocupacion, dia_max, dia_min"
   ]
  },
  {
   "cell_type": "markdown",
   "id": "493c6a52",
   "metadata": {},
   "source": [
    "## Paso 1: Estadísticas descriptivas\n",
    "\n",
    "### 📌 Pasajeros totales por viaje\n",
    "\n",
    "- Promedio: 7.6 pasajeros\n",
    "- Mínimo: 0 pasajeros (viajes sin ocupación)\n",
    "- Máximo: 12 pasajeros (hubo casos con sobrecupo respecto a los 9 puestos)\n",
    "- Rango intercuartílico: la mayoría de viajes llevan entre 7 y 9 pasajeros\n",
    "\n",
    "### 📌 Porcentaje de ocupación\n",
    "\n",
    "- Promedio: 85.6%\n",
    "- Mínimo: 0%\n",
    "- Máximo: 133% (indica que en algunos viajes se subieron pasajeros extra, superando la capacidad de 9 puestos)\n",
    "- Mediana: 88.8%\n",
    "- 75% de los viajes van llenos o casi llenos\n",
    "\n",
    "### 📌 Días con mayor y menor demanda\n",
    "\n",
    "- Mayor demanda: 2025-04-20 con 335 pasajeros en total\n",
    "- Menor demanda: 2025-03-12 con 54 pasajeros en total\n",
    "\n",
    "### 👉 Con esto ya tenemos claro el panorama general:\n",
    "\n",
    "- La flota se mueve con una ocupación alta en la mayoría de viajes.\n",
    "- Hay días pico (festivos, fines de semana) y días muy bajos.\n",
    "- Existen casos de sobrecupo que conviene analizar."
   ]
  },
  {
   "cell_type": "code",
   "execution_count": 177,
   "id": "2a59f79e",
   "metadata": {},
   "outputs": [
    {
     "data": {
      "text/plain": [
       "(hora_num_clima\n",
       " 1     0.777778\n",
       " 3     1.000000\n",
       " 4     0.888889\n",
       " 5     0.805556\n",
       " 6     0.756848\n",
       " 7     0.826923\n",
       " 8     0.830580\n",
       " 9     0.830412\n",
       " 10    0.845370\n",
       " 11    0.868378\n",
       " 12    0.869625\n",
       " 13    0.854974\n",
       " 14    0.862639\n",
       " 15    0.885354\n",
       " 16    0.889356\n",
       " 17    0.907421\n",
       " 18    0.890014\n",
       " 19    0.844343\n",
       " 20    0.715400\n",
       " 21    0.522876\n",
       " 22    0.500000\n",
       " Name: porcentaje_ocupacion, dtype: float64,\n",
       " dia_semana\n",
       " domingo      0.890068\n",
       " jueves       0.826308\n",
       " lunes        0.866527\n",
       " martes       0.814597\n",
       " miércoles    0.822381\n",
       " sábado       0.880426\n",
       " viernes      0.873520\n",
       " Name: porcentaje_ocupacion, dtype: float64,\n",
       " festivo\n",
       " No    0.853441\n",
       " Sí    0.892564\n",
       " Name: porcentaje_ocupacion, dtype: float64)"
      ]
     },
     "execution_count": 177,
     "metadata": {},
     "output_type": "execute_result"
    }
   ],
   "source": [
    "# Paso 2: Análisis temporal\n",
    "\n",
    "# Ocupación promedio por hora del día\n",
    "ocupacion_por_hora = final_data.groupby(\"hora_num_clima\")[\"porcentaje_ocupacion\"].mean()\n",
    "\n",
    "# Ocupación promedio por día de la semana\n",
    "ocupacion_por_dia_semana = final_data.groupby(\"dia_semana\")[\"porcentaje_ocupacion\"].mean()\n",
    "\n",
    "# Ocupación promedio en festivos vs no festivos\n",
    "ocupacion_festivo = final_data.groupby(\"festivo\")[\"porcentaje_ocupacion\"].mean()\n",
    "\n",
    "ocupacion_por_hora, ocupacion_por_dia_semana, ocupacion_festivo"
   ]
  },
  {
   "cell_type": "markdown",
   "id": "b7d6791e",
   "metadata": {},
   "source": [
    "## Paso 2: Análisis temporal\n",
    "\n",
    "### 📌 Ocupación promedio por hora del día\n",
    "\n",
    "#### Horas más altas:\n",
    "\n",
    "- 17:00 → 90.7%\n",
    "- 16:00 → 88.9%\n",
    "- 18:00 → 89.0%\n",
    "\n",
    "#### Horas más bajas:\n",
    "\n",
    "- 21:00 → 52%\n",
    "- 22:00 → 50%\n",
    "- 6:00 → 75.6%\n",
    "\n",
    "#### 👉 Los viajes nocturnos (21:00–22:00) y muy temprano (6:00) son los menos demandados.\n",
    "\n",
    "### 📌 Ocupación promedio por día de la semana\n",
    "\n",
    "- Domingo → 89.0%\n",
    "- Sábado → 88.0%\n",
    "- Viernes → 87.3%\n",
    "\n",
    "#### Más bajos: Martes (81.4%) y Miércoles (82.2%)\n",
    "\n",
    "#### 👉 Claramente hay un patrón de mayor ocupación en fines de semana.\n",
    "\n",
    "### 📌 Ocupación en festivos vs no festivos\n",
    "\n",
    "- Festivos → 89.3%\n",
    "- No festivos → 85.3%\n",
    "\n",
    "#### 👉 Los festivos aumentan la ocupación en casi 4 puntos porcentuales.\n",
    "\n",
    "### ✅ Conclusión:\n",
    "\n",
    "- La demanda es más fuerte en tardes, fines de semana y festivos.\n",
    "- Hay franjas horarias que podrían ser optimizadas (muy baja ocupación en la noche)."
   ]
  },
  {
   "cell_type": "code",
   "execution_count": 178,
   "id": "54a72090",
   "metadata": {},
   "outputs": [
    {
     "data": {
      "image/png": "[encoded data removed]",
      "text/plain": [
       "<Figure size 1000x500 with 1 Axes>"
      ]
     },
     "metadata": {},
     "output_type": "display_data"
    }
   ],
   "source": [
    "# Gráfico 1: Ocupación promedio por hora del día\n",
    "plt.figure(figsize=(10,5))\n",
    "ocupacion_por_hora.plot(kind=\"bar\", color=\"skyblue\")\n",
    "plt.title(\"Ocupación promedio por hora del día\")\n",
    "plt.xlabel(\"Hora del día\")\n",
    "plt.ylabel(\"Porcentaje de ocupación\")\n",
    "plt.xticks(rotation=0)\n",
    "plt.show()"
   ]
  },
  {
   "cell_type": "markdown",
   "id": "11e525b1",
   "metadata": {},
   "source": [
    "#### Ocupación promedio por hora del día → la tarde (16:00–18:00) concentra los viajes con más pasajeros; la noche (21:00–22:00) tiene muy baja ocupación."
   ]
  },
  {
   "cell_type": "code",
   "execution_count": 179,
   "id": "3e4e0b71",
   "metadata": {},
   "outputs": [
    {
     "data": {
      "image/png": "[encoded data removed]",
      "text/plain": [
       "<Figure size 800x500 with 1 Axes>"
      ]
     },
     "metadata": {},
     "output_type": "display_data"
    }
   ],
   "source": [
    "# Gráfico 2: Ocupación promedio por día de la semana\n",
    "plt.figure(figsize=(8,5))\n",
    "ocupacion_por_dia_semana = ocupacion_por_dia_semana.reindex(\n",
    "    [\"lunes\",\"martes\",\"miércoles\",\"jueves\",\"viernes\",\"sábado\",\"domingo\"]\n",
    ")\n",
    "ocupacion_por_dia_semana.plot(kind=\"bar\", color=\"lightgreen\")\n",
    "plt.title(\"Ocupación promedio por día de la semana\")\n",
    "plt.xlabel(\"Día de la semana\")\n",
    "plt.ylabel(\"Porcentaje de ocupación\")\n",
    "plt.xticks(rotation=45)\n",
    "plt.show()"
   ]
  },
  {
   "cell_type": "markdown",
   "id": "d4ac7764",
   "metadata": {},
   "source": [
    "#### Ocupación promedio por día de la semana → fines de semana (sábado y domingo) muestran ocupaciones más altas."
   ]
  },
  {
   "cell_type": "code",
   "execution_count": 180,
   "id": "3507b58d",
   "metadata": {},
   "outputs": [
    {
     "data": {
      "image/png": "[encoded data removed]",
      "text/plain": [
       "<Figure size 600x400 with 1 Axes>"
      ]
     },
     "metadata": {},
     "output_type": "display_data"
    }
   ],
   "source": [
    "# Gráfico 3: Ocupación en festivos vs no festivos\n",
    "plt.figure(figsize=(6,4))\n",
    "ocupacion_festivo.plot(kind=\"bar\", color=[\"orange\",\"purple\"])\n",
    "plt.title(\"Ocupación promedio: festivos vs no festivos\")\n",
    "plt.xlabel(\"¿Es festivo?\")\n",
    "plt.ylabel(\"Porcentaje de ocupación\")\n",
    "plt.xticks(rotation=0)\n",
    "plt.show()"
   ]
  },
  {
   "cell_type": "markdown",
   "id": "e78a8892",
   "metadata": {},
   "source": [
    "#### Ocupación festivos vs no festivos → los festivos suben la demanda respecto a un día normal."
   ]
  },
  {
   "cell_type": "code",
   "execution_count": 181,
   "id": "4f76cc27",
   "metadata": {},
   "outputs": [
    {
     "data": {
      "text/plain": [
       "(clima\n",
       " Llovizna ligera                1.000000\n",
       " Chubascos ligeros              0.867575\n",
       " Nublado                        0.863870\n",
       " Despejado                      0.859674\n",
       " Principalmente despejado       0.854330\n",
       " Parcialmente nublado           0.853700\n",
       " Lluvia ligera                  0.851944\n",
       " Niebla                         0.846486\n",
       " Tormenta eléctrica             0.830361\n",
       " Lluvia moderada                0.807540\n",
       " Tormenta con granizo ligero    0.790278\n",
       " Name: porcentaje_ocupacion, dtype: float64,\n",
       " np.float64(0.07277055642829326))"
      ]
     },
     "execution_count": 181,
     "metadata": {},
     "output_type": "execute_result"
    }
   ],
   "source": [
    "# Paso 3: Relación entre clima y ocupación\n",
    "\n",
    "# Ocupación promedio por tipo de clima (texto)\n",
    "ocupacion_por_clima = final_data.groupby(\"clima\")[\"porcentaje_ocupacion\"].mean().sort_values(ascending=False)\n",
    "\n",
    "# Correlación entre temperatura y ocupación\n",
    "corr_temp_ocupacion = final_data[\"temperatura\"].corr(final_data[\"porcentaje_ocupacion\"])\n",
    "\n",
    "ocupacion_por_clima, corr_temp_ocupacion"
   ]
  },
  {
   "cell_type": "markdown",
   "id": "8db018b6",
   "metadata": {},
   "source": [
    "## ✅ Paso 3: Relación entre clima y ocupación\n",
    "\n",
    "### 📌 Ocupación promedio por tipo de clima\n",
    "\n",
    "#### Más alta:\n",
    "\n",
    "- Llovizna ligera → 100% (aunque parece que hay pocos registros, habría que validarlo)\n",
    "- Chubascos ligeros → 86.8%\n",
    "- Nublado → 86.4%\n",
    "\n",
    "#### Más baja:\n",
    "\n",
    "- Tormenta con granizo ligero → 79.0%\n",
    "- Lluvia moderada → 80.7%\n",
    "- Tormenta eléctrica → 83.0%\n",
    "\n",
    "👉 En general, el mal clima reduce un poco la ocupación, aunque no de forma dramática.\n",
    "\n",
    "### 📌 Correlación entre temperatura y ocupación\n",
    "\n",
    "Correlación de 0.073 → muy baja.\n",
    "👉 Esto indica que la temperatura no influye significativamente en la cantidad de pasajeros.\n",
    "\n",
    "### ✅ Conclusión:\n",
    "\n",
    "El clima afecta más por tipo de fenómeno (tormenta, lluvia moderada) que por la temperatura.\n",
    "\n",
    "Incluso en lluvia ligera o cielo nublado, la gente sigue viajando casi igual que en días despejados."
   ]
  },
  {
   "cell_type": "code",
   "execution_count": 182,
   "id": "cf3b983e",
   "metadata": {},
   "outputs": [
    {
     "data": {
      "image/png": "[encoded data removed]",
      "text/plain": [
       "<Figure size 1000x600 with 1 Axes>"
      ]
     },
     "metadata": {},
     "output_type": "display_data"
    }
   ],
   "source": [
    "# Gráfico 1: Ocupación promedio por tipo de clima\n",
    "plt.figure(figsize=(10,6))\n",
    "ocupacion_por_clima.plot(kind=\"bar\", color=\"skyblue\")\n",
    "plt.title(\"Ocupación promedio según tipo de clima\")\n",
    "plt.xlabel(\"Clima\")\n",
    "plt.ylabel(\"Porcentaje de ocupación\")\n",
    "plt.xticks(rotation=45, ha=\"right\")\n",
    "plt.ylim(0.7, 1.05)\n",
    "plt.show()"
   ]
  },
  {
   "cell_type": "markdown",
   "id": "5d9c8125",
   "metadata": {},
   "source": [
    "### Ocupación promedio según clima → la ocupación se mantiene alta en casi todas las condiciones, pero baja en casos de tormenta y lluvia moderada."
   ]
  },
  {
   "cell_type": "code",
   "execution_count": 183,
   "id": "89070beb",
   "metadata": {},
   "outputs": [
    {
     "data": {
      "image/png": "[encoded data removed]",
      "text/plain": [
       "<Figure size 800x600 with 1 Axes>"
      ]
     },
     "metadata": {},
     "output_type": "display_data"
    }
   ],
   "source": [
    "# Gráfico 2: Relación entre temperatura y ocupación (scatter)\n",
    "plt.figure(figsize=(8,6))\n",
    "plt.scatter(final_data[\"temperatura\"], final_data[\"porcentaje_ocupacion\"], alpha=0.3, color=\"tomato\")\n",
    "plt.title(\"Relación entre temperatura y porcentaje de ocupación\")\n",
    "plt.xlabel(\"Temperatura (°C)\")\n",
    "plt.ylabel(\"Porcentaje de ocupación\")\n",
    "plt.show()"
   ]
  },
  {
   "cell_type": "markdown",
   "id": "152ff13b",
   "metadata": {},
   "source": [
    "### Relación temperatura vs ocupación → la nube de puntos muestra que no hay una relación clara; la ocupación es alta sin importar la temperatura."
   ]
  },
  {
   "cell_type": "markdown",
   "id": "adecec86",
   "metadata": {},
   "source": [
    "## ✅ Paso 4: Conclusiones y recomendaciones para la empresa de transporte 🚍📊\n",
    "\n",
    "### Tras analizar el dataset final (4630 registros), estos son los hallazgos clave:\n",
    "\n",
    "### 🔎 Conclusiones\n",
    "\n",
    "- Alta ocupación promedio:\n",
    "- Los buses viajan al 85.6% de ocupación promedio.\n",
    "- En el 75% de los viajes la ocupación está entre 77% y 100%.\n",
    "- Hay casos de sobrecupo (133%), lo que indica problemas de control de capacidad.\n",
    "\n",
    "### Patrones temporales:\n",
    "\n",
    "- La tarde (16:00–18:00) concentra la mayor demanda.\n",
    "- Los viajes nocturnos (21:00–22:00) tienen ocupaciones muy bajas (50–52%).\n",
    "- Sábados, domingos y festivos muestran los mayores niveles de ocupación.\n",
    "\n",
    "### Impacto del clima:\n",
    "\n",
    "- La temperatura no influye significativamente en la ocupación (correlación 0.07).\n",
    "- El tipo de clima sí tiene un ligero efecto: en llovizna ligera o nublado la ocupación se mantiene alta, mientras que en tormenta o lluvia moderada baja a ~80%.\n",
    "\n",
    "### 💡 Recomendaciones\n",
    "\n",
    "### Gestión de la flota por horarios\n",
    "\n",
    "- Reducir o reorganizar salidas en noches (21:00–22:00), donde la ocupación cae a la mitad.\n",
    "- Mantener e incluso reforzar buses en franjas críticas de la tarde y fines de semana.\n",
    "\n",
    "### Prevención de sobrecupo\n",
    "\n",
    "- Revisar controles de tiquetes y capacidad máxima (9 pasajeros).\n",
    "- Implementar alertas de sobreventa para evitar viajes >100% ocupación.\n",
    "\n",
    "### Gestión en festivos y fines de semana\n",
    "\n",
    "- Planificar mayor número de buses o refuerzos en esas fechas.\n",
    "- Ofrecer reservas anticipadas para evitar sobrecupo.\n",
    "\n",
    "### Comunicación con el pasajero\n",
    "\n",
    "- Informar a los usuarios sobre horarios de menor ocupación (ej. viajes nocturnos).\n",
    "- Ofrecer descuentos o promociones en esos horarios para equilibrar la demanda.\n",
    "\n",
    "## Clima\n",
    "\n",
    "- Aunque el clima no reduce drásticamente la demanda, en casos de tormenta la ocupación baja. Conviene reforzar la comunicación y seguridad vial en esos contextos."
   ]
  }
 ],
 "metadata": {
  "kernelspec": {
   "display_name": "Python 3",
   "language": "python",
   "name": "python3"
  },
  "language_info": {
   "codemirror_mode": {
    "name": "ipython",
    "version": 3
   },
   "file_extension": ".py",
   "mimetype": "text/x-python",
   "name": "python",
   "nbconvert_exporter": "python",
   "pygments_lexer": "ipython3",
   "version": "3.12.6"
  }
 },
 "nbformat": 4,
 "nbformat_minor": 5
}
